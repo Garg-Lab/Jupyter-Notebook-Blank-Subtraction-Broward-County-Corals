{
 "cells": [
  {
   "cell_type": "code",
   "execution_count": 1,
   "metadata": {},
   "outputs": [],
   "source": [
    "import pandas as pd\n",
    "import numpy as np"
   ]
  },
  {
   "cell_type": "code",
   "execution_count": 2,
   "metadata": {},
   "outputs": [],
   "source": [
    "UnalteredFrame = pd.read_excel(r\"C:\\Users\\jdeutsch7\\Documents\\Coral Project\\Mucus\\Jan16thandJan302020\\February 2020 paper\\BS2 healthy and DD oct analysis\\all BS2 samples and zoox\\blank subtraction\\input_coral_zoox.xlsx\")"
   ]
  },
  {
   "cell_type": "markdown",
   "metadata": {},
   "source": [
    "This takes the mean of the three columns in the unaltered Frame"
   ]
  },
  {
   "cell_type": "code",
   "execution_count": 3,
   "metadata": {},
   "outputs": [],
   "source": [
    "ControlsSODBlanks = UnalteredFrame[['SOD 1', 'SOD 2', 'SOD 3']].apply(np.mean,axis=1)\n",
    "Controlssolventbatch2 = UnalteredFrame[[ '107_13_Solvent_Control_c', '107_14_Solvent_Control', '109_12_Solvent_Control', '111_12_Solvent_Control', '113_12_Solvent_Control', '115_12_Solvent_Control', '105_12_solvent_control']].apply(np.mean,axis=1)\n",
    "ControlsFSW = UnalteredFrame[['FSW control']].apply(np.mean,axis=1)"
   ]
  },
  {
   "cell_type": "code",
   "execution_count": 4,
   "metadata": {},
   "outputs": [],
   "source": [
    "BlockSamples3 = UnalteredFrame[['Healthy1', 'Healthy2', 'Healthy3', 'Healthy4', 'Healthy5', 'Healthy6', 'Healthy7', 'Healthy8', 'Healthy9', 'Healthy10']].apply(np.mean,axis=1)\n",
    "BlockSamples4 = UnalteredFrame[['DD23', 'DD24', 'DD25']].apply(np.mean,axis=1)\n",
    "BlockSamples5 = UnalteredFrame[['HH1', 'HH2', 'HH3']].apply(np.mean,axis=1)\n",
    "BlockSamples6 = UnalteredFrame[['DD1', 'DD2', 'DD3', 'DD4', 'DD5', 'DD6', 'DD7', 'DD8', 'DD9', 'DD10', 'DD11', 'DD12', 'DD13', 'DD14', 'DD15', 'DD16', 'DD17', 'DD18', 'DD19', 'DD20', 'DD21', 'DD22']].apply(np.mean,axis=1)\n",
    "BlockSamples7 = UnalteredFrame[['Zoo_1', 'Zoo_2', 'Zoo_3', 'Zoo_4', 'Zoo_5', 'Zoo_6', 'Zoo_7']].apply(np.mean,axis=1)"
   ]
  },
  {
   "cell_type": "markdown",
   "metadata": {},
   "source": [
    "This gives the names of the columns"
   ]
  },
  {
   "cell_type": "code",
   "execution_count": 5,
   "metadata": {
    "scrolled": false
   },
   "outputs": [
    {
     "data": {
      "text/plain": [
       "Index(['row ID', 'row m/z', 'row retention time', 'Zoo_1', 'Zoo_2', 'Zoo_3',\n",
       "       'Zoo_4', 'Zoo_5', 'Zoo_6', 'Zoo_7', 'DD1', 'DD2', 'DD3', 'DD4', 'DD5',\n",
       "       'DD6', 'DD7', 'DD8', 'DD9', 'DD10', 'DD11', 'DD12', 'DD13', 'DD14',\n",
       "       'DD15', 'DD16', 'DD17', 'DD18', 'DD19', 'DD20', 'DD21', 'DD22', 'DD23',\n",
       "       'DD24', 'DD25', 'Healthy1', 'Healthy2', 'Healthy3', 'Healthy4',\n",
       "       'Healthy5', 'Healthy6', 'Healthy7', 'Healthy8', 'Healthy9', 'Healthy10',\n",
       "       'SOD 1', 'SOD 2', 'SOD 3', 'FSW control', '105_12_solvent_control',\n",
       "       '107_13_Solvent_Control_c', '107_14_Solvent_Control',\n",
       "       '109_12_Solvent_Control', '111_12_Solvent_Control',\n",
       "       '113_12_Solvent_Control', '115_12_Solvent_Control', 'HH1', 'HH2',\n",
       "       'HH3'],\n",
       "      dtype='object')"
      ]
     },
     "execution_count": 5,
     "metadata": {},
     "output_type": "execute_result"
    }
   ],
   "source": [
    "UnalteredFrame.columns"
   ]
  },
  {
   "cell_type": "code",
   "execution_count": 6,
   "metadata": {},
   "outputs": [],
   "source": [
    "TobeKeptBlockC = BlockSamples3 * .25 >= ControlsSODBlanks"
   ]
  },
  {
   "cell_type": "code",
   "execution_count": 7,
   "metadata": {},
   "outputs": [],
   "source": [
    "TobeKeptBlockD = BlockSamples4 * .25 >= ControlsSODBlanks"
   ]
  },
  {
   "cell_type": "code",
   "execution_count": 8,
   "metadata": {},
   "outputs": [],
   "source": [
    "TobeKeptBlockE = BlockSamples5 * .25 >= ControlsSODBlanks"
   ]
  },
  {
   "cell_type": "code",
   "execution_count": 9,
   "metadata": {},
   "outputs": [],
   "source": [
    "TobeKeptBlockF = BlockSamples6 * .25 >= ControlsSODBlanks"
   ]
  },
  {
   "cell_type": "code",
   "execution_count": 10,
   "metadata": {},
   "outputs": [],
   "source": [
    "TobeKeptBlockG = BlockSamples7 * .25 >= ControlsSODBlanks"
   ]
  },
  {
   "cell_type": "code",
   "execution_count": 11,
   "metadata": {},
   "outputs": [],
   "source": [
    "ControlBlanksSummary = TobeKeptBlockC & TobeKeptBlockD & TobeKeptBlockE & TobeKeptBlockF & TobeKeptBlockG"
   ]
  },
  {
   "cell_type": "code",
   "execution_count": 12,
   "metadata": {},
   "outputs": [],
   "source": [
    "TobeKeptBlock9 = BlockSamples3 * .25 >=Controlssolventbatch2"
   ]
  },
  {
   "cell_type": "code",
   "execution_count": 13,
   "metadata": {},
   "outputs": [],
   "source": [
    "TobeKeptBlock10 = BlockSamples4 * .25 >=Controlssolventbatch2"
   ]
  },
  {
   "cell_type": "code",
   "execution_count": 14,
   "metadata": {},
   "outputs": [],
   "source": [
    "TobeKeptBlock8 = BlockSamples5 * .25 >=Controlssolventbatch2"
   ]
  },
  {
   "cell_type": "code",
   "execution_count": 15,
   "metadata": {},
   "outputs": [],
   "source": [
    "TobeKeptBlock7 = BlockSamples6 * .25 >=Controlssolventbatch2"
   ]
  },
  {
   "cell_type": "code",
   "execution_count": 16,
   "metadata": {},
   "outputs": [],
   "source": [
    "TobeKeptBlock11 = BlockSamples7 * .25 >=Controlssolventbatch2"
   ]
  },
  {
   "cell_type": "code",
   "execution_count": 17,
   "metadata": {},
   "outputs": [],
   "source": [
    "Controlbatch2summary = TobeKeptBlock9 & TobeKeptBlock10 & TobeKeptBlock8 & TobeKeptBlock7 & TobeKeptBlock11"
   ]
  },
  {
   "cell_type": "code",
   "execution_count": 18,
   "metadata": {},
   "outputs": [],
   "source": [
    "TobeKeptBlockW = BlockSamples7 * .25 >=ControlsFSW"
   ]
  },
  {
   "cell_type": "code",
   "execution_count": 19,
   "metadata": {},
   "outputs": [],
   "source": [
    "ControlFSWsummary = TobeKeptBlockW"
   ]
  },
  {
   "cell_type": "markdown",
   "metadata": {},
   "source": [
    "Combine the Filters Together Into a single Filter"
   ]
  },
  {
   "cell_type": "code",
   "execution_count": 20,
   "metadata": {},
   "outputs": [],
   "source": [
    "RetainFilter = ControlBlanksSummary & Controlbatch2summary & ControlFSWsummary"
   ]
  },
  {
   "cell_type": "markdown",
   "metadata": {},
   "source": [
    "We use the Regular Filter (Greater than 25%) The results are stored in altered Frame"
   ]
  },
  {
   "cell_type": "code",
   "execution_count": 21,
   "metadata": {},
   "outputs": [],
   "source": [
    "TrueFrame = UnalteredFrame"
   ]
  },
  {
   "cell_type": "code",
   "execution_count": 22,
   "metadata": {},
   "outputs": [],
   "source": [
    "TrueFrame['Retained'] = RetainFilter"
   ]
  },
  {
   "cell_type": "markdown",
   "metadata": {},
   "source": [
    "Altered Frame is saved as a csv with the name given"
   ]
  },
  {
   "cell_type": "code",
   "execution_count": 23,
   "metadata": {},
   "outputs": [],
   "source": [
    "TrueFrame.to_csv('blank_removal_output_check_batch2_all_corals_zoox.csv')"
   ]
  },
  {
   "cell_type": "markdown",
   "metadata": {},
   "source": [
    "Keep Rows Marked True"
   ]
  },
  {
   "cell_type": "code",
   "execution_count": 24,
   "metadata": {},
   "outputs": [],
   "source": [
    "TrueFrame[RetainFilter].to_csv('blank_removal_output_filtered_batch2_all_corals_zoox.csv')"
   ]
  },
  {
   "cell_type": "code",
   "execution_count": null,
   "metadata": {},
   "outputs": [],
   "source": []
  },
  {
   "cell_type": "code",
   "execution_count": null,
   "metadata": {},
   "outputs": [],
   "source": []
  }
 ],
 "metadata": {
  "kernelspec": {
   "display_name": "Python 3",
   "language": "python",
   "name": "python3"
  },
  "language_info": {
   "codemirror_mode": {
    "name": "ipython",
    "version": 3
   },
   "file_extension": ".py",
   "mimetype": "text/x-python",
   "name": "python",
   "nbconvert_exporter": "python",
   "pygments_lexer": "ipython3",
   "version": "3.7.4"
  }
 },
 "nbformat": 4,
 "nbformat_minor": 2
}
